{
  "nbformat": 4,
  "nbformat_minor": 0,
  "metadata": {
    "colab": {
      "provenance": []
    },
    "kernelspec": {
      "name": "python3",
      "display_name": "Python 3"
    },
    "language_info": {
      "name": "python"
    }
  },
  "cells": [
    {
      "cell_type": "code",
      "execution_count": 1,
      "metadata": {
        "id": "7BmAeiza8y8E"
      },
      "outputs": [],
      "source": [
        "import numpy as np"
      ]
    },
    {
      "cell_type": "markdown",
      "source": [
        "//Transformando uma lista em array"
      ],
      "metadata": {
        "id": "hNBVMRPy939M"
      }
    },
    {
      "cell_type": "code",
      "source": [
        "a = [1, 2, 3, 4, 5, 6, 7]\n",
        "arr = np.array(a)\n",
        "arr"
      ],
      "metadata": {
        "colab": {
          "base_uri": "https://localhost:8080/"
        },
        "id": "e3rpI2Y19Gh8",
        "outputId": "dfcc967a-e897-4af7-92a1-d899128605af"
      },
      "execution_count": 4,
      "outputs": [
        {
          "output_type": "execute_result",
          "data": {
            "text/plain": [
              "array([1, 2, 3, 4, 5, 6, 7])"
            ]
          },
          "metadata": {},
          "execution_count": 4
        }
      ]
    },
    {
      "cell_type": "markdown",
      "source": [
        "//Visualizando os tipos de dados do array"
      ],
      "metadata": {
        "id": "_LA8XPFy99fH"
      }
    },
    {
      "cell_type": "code",
      "source": [
        "arr.dtype"
      ],
      "metadata": {
        "colab": {
          "base_uri": "https://localhost:8080/"
        },
        "id": "_NZbo38S9Wdk",
        "outputId": "609968ed-1e16-4b42-e712-1ba3d9cba0c2"
      },
      "execution_count": 5,
      "outputs": [
        {
          "output_type": "execute_result",
          "data": {
            "text/plain": [
              "dtype('int64')"
            ]
          },
          "metadata": {},
          "execution_count": 5
        }
      ]
    },
    {
      "cell_type": "code",
      "source": [],
      "metadata": {
        "id": "t1ROHKTQ-O30"
      },
      "execution_count": null,
      "outputs": []
    },
    {
      "cell_type": "markdown",
      "source": [
        "// Visualizando o formato do array"
      ],
      "metadata": {
        "id": "y9QHwc-O-JOt"
      }
    },
    {
      "cell_type": "code",
      "source": [
        "np.shape(arr)"
      ],
      "metadata": {
        "colab": {
          "base_uri": "https://localhost:8080/"
        },
        "id": "Qr-eI3FZ9sF2",
        "outputId": "a7f31634-30d4-4e85-c139-cbd85d975562"
      },
      "execution_count": 6,
      "outputs": [
        {
          "output_type": "execute_result",
          "data": {
            "text/plain": [
              "(7,)"
            ]
          },
          "metadata": {},
          "execution_count": 6
        }
      ]
    },
    {
      "cell_type": "markdown",
      "source": [
        "//Verificando o tamanho do array"
      ],
      "metadata": {
        "id": "4czOx0OZ-mY7"
      }
    },
    {
      "cell_type": "code",
      "source": [
        "np.size(arr)"
      ],
      "metadata": {
        "colab": {
          "base_uri": "https://localhost:8080/"
        },
        "id": "kSoNVf0y-Qdl",
        "outputId": "2e3998e0-4c9d-4272-ba48-e9b22e5ccedf"
      },
      "execution_count": 7,
      "outputs": [
        {
          "output_type": "execute_result",
          "data": {
            "text/plain": [
              "7"
            ]
          },
          "metadata": {},
          "execution_count": 7
        }
      ]
    },
    {
      "cell_type": "code",
      "source": [
        "a2 = [[2,355,6,88,9],[3,5,88,90,2]]"
      ],
      "metadata": {
        "id": "9p4KrTtc-xNg"
      },
      "execution_count": 9,
      "outputs": []
    },
    {
      "cell_type": "code",
      "source": [
        "arr1 = np.array(a2)\n",
        "arr1"
      ],
      "metadata": {
        "colab": {
          "base_uri": "https://localhost:8080/"
        },
        "id": "GK-j-NiK_C-I",
        "outputId": "97369e47-36fc-4d1a-e39e-97bc7a6418db"
      },
      "execution_count": 10,
      "outputs": [
        {
          "output_type": "execute_result",
          "data": {
            "text/plain": [
              "array([[  2, 355,   6,  88,   9],\n",
              "       [  3,   5,  88,  90,   2]])"
            ]
          },
          "metadata": {},
          "execution_count": 10
        }
      ]
    },
    {
      "cell_type": "markdown",
      "source": [
        "// Array formado por duas linhas e cinco colunas"
      ],
      "metadata": {
        "id": "xeenmn4G_fNA"
      }
    },
    {
      "cell_type": "code",
      "source": [
        "np.shape(arr1)"
      ],
      "metadata": {
        "colab": {
          "base_uri": "https://localhost:8080/"
        },
        "id": "EQKf8z47_OjQ",
        "outputId": "e6d8062a-69d7-4d68-d2c8-77358e467104"
      },
      "execution_count": 11,
      "outputs": [
        {
          "output_type": "execute_result",
          "data": {
            "text/plain": [
              "(2, 5)"
            ]
          },
          "metadata": {},
          "execution_count": 11
        }
      ]
    },
    {
      "cell_type": "markdown",
      "source": [
        "// trazer o elemento que ocupa o lugar da coluna 1, linha 2"
      ],
      "metadata": {
        "id": "rI4RoSKP_13o"
      }
    },
    {
      "cell_type": "code",
      "source": [
        "arr1[1,2]"
      ],
      "metadata": {
        "colab": {
          "base_uri": "https://localhost:8080/"
        },
        "id": "qjT4PFzO_aXr",
        "outputId": "e8f1a989-0136-40b6-e8a1-3956f59a2f5e"
      },
      "execution_count": 12,
      "outputs": [
        {
          "output_type": "execute_result",
          "data": {
            "text/plain": [
              "88"
            ]
          },
          "metadata": {},
          "execution_count": 12
        }
      ]
    },
    {
      "cell_type": "markdown",
      "source": [
        "//Trazer a linha zero do array"
      ],
      "metadata": {
        "id": "IwtOGpFMAQuf"
      }
    },
    {
      "cell_type": "code",
      "source": [
        "arr1[0, :]"
      ],
      "metadata": {
        "colab": {
          "base_uri": "https://localhost:8080/"
        },
        "id": "RfPhr8wmAEMR",
        "outputId": "b128c001-fc9d-4077-c3a5-ecf74d8363a6"
      },
      "execution_count": 13,
      "outputs": [
        {
          "output_type": "execute_result",
          "data": {
            "text/plain": [
              "array([  2, 355,   6,  88,   9])"
            ]
          },
          "metadata": {},
          "execution_count": 13
        }
      ]
    },
    {
      "cell_type": "markdown",
      "source": [
        "// Trazer os elementos da linha 1, coluna 1 e 2"
      ],
      "metadata": {
        "id": "HHBTGELQAqGm"
      }
    },
    {
      "cell_type": "code",
      "source": [
        "arr1[1, 1:3]"
      ],
      "metadata": {
        "colab": {
          "base_uri": "https://localhost:8080/"
        },
        "id": "phQBskVoA0sj",
        "outputId": "7427878c-2893-433e-8102-a38b5d5b7f70"
      },
      "execution_count": 14,
      "outputs": [
        {
          "output_type": "execute_result",
          "data": {
            "text/plain": [
              "array([ 5, 88])"
            ]
          },
          "metadata": {},
          "execution_count": 14
        }
      ]
    },
    {
      "cell_type": "markdown",
      "source": [
        "//Criando um array vazio de uma linha e seis colunas"
      ],
      "metadata": {
        "id": "Q9iSXFU8BYC-"
      }
    },
    {
      "cell_type": "markdown",
      "source": [],
      "metadata": {
        "id": "Ar2d97BqAPlC"
      }
    },
    {
      "cell_type": "code",
      "source": [
        "np.empty(6, dtype='int32')"
      ],
      "metadata": {
        "colab": {
          "base_uri": "https://localhost:8080/"
        },
        "id": "ikALMc2QBb4b",
        "outputId": "0f1f1edd-c7da-45a2-aff0-e9b88a4df037"
      },
      "execution_count": 15,
      "outputs": [
        {
          "output_type": "execute_result",
          "data": {
            "text/plain": [
              "array([         0,          0,          0, 1071644672,          0,\n",
              "       1072693248], dtype=int32)"
            ]
          },
          "metadata": {},
          "execution_count": 15
        }
      ]
    },
    {
      "cell_type": "markdown",
      "source": [
        "//Criando um array do tipo 2 por 2"
      ],
      "metadata": {
        "id": "LMgBR6ZKBrBB"
      }
    },
    {
      "cell_type": "code",
      "source": [
        "np.empty([2,2], dtype='int32')"
      ],
      "metadata": {
        "colab": {
          "base_uri": "https://localhost:8080/"
        },
        "id": "eAjXquXeBpje",
        "outputId": "29aebc75-0943-45e3-93c8-368f7f481b9c"
      },
      "execution_count": 16,
      "outputs": [
        {
          "output_type": "execute_result",
          "data": {
            "text/plain": [
              "array([[          0, -1073741824],\n",
              "       [-2129100801,       31266]], dtype=int32)"
            ]
          },
          "metadata": {},
          "execution_count": 16
        }
      ]
    },
    {
      "cell_type": "markdown",
      "source": [
        "//Criando arrays randomicos"
      ],
      "metadata": {
        "id": "A-vTCGjJCCfX"
      }
    },
    {
      "cell_type": "code",
      "source": [
        "np.random.randint(0,57, size=(3,3))\n"
      ],
      "metadata": {
        "colab": {
          "base_uri": "https://localhost:8080/"
        },
        "id": "CkalbAEPCGNx",
        "outputId": "f99c78bf-0f15-4d8c-93d3-31b3b751b6d6"
      },
      "execution_count": 17,
      "outputs": [
        {
          "output_type": "execute_result",
          "data": {
            "text/plain": [
              "array([[ 5, 52, 27],\n",
              "       [53, 42, 55],\n",
              "       [30, 11, 36]])"
            ]
          },
          "metadata": {},
          "execution_count": 17
        }
      ]
    },
    {
      "cell_type": "code",
      "source": [
        "test = np.random.randint(0,200, size=(50,5))\n",
        "test"
      ],
      "metadata": {
        "colab": {
          "base_uri": "https://localhost:8080/"
        },
        "id": "Fp_bkfn6B4lG",
        "outputId": "a21f5a37-7d1e-4f1f-9993-08ac9ceb4271"
      },
      "execution_count": 19,
      "outputs": [
        {
          "output_type": "execute_result",
          "data": {
            "text/plain": [
              "array([[ 50, 195,  17,  71,  52],\n",
              "       [ 21,   1, 158, 112,  20],\n",
              "       [116, 139, 165,  40, 174],\n",
              "       [128, 128, 187,   8, 119],\n",
              "       [198, 179, 180,  63,  96],\n",
              "       [ 11,  41,  55, 196, 121],\n",
              "       [190, 109,  22,  68, 136],\n",
              "       [128, 106, 102, 178,  91],\n",
              "       [ 68,  55,  46,  23,  41],\n",
              "       [146,  20,   0, 189, 110],\n",
              "       [ 90, 162,  93, 137, 164],\n",
              "       [ 88,  21, 154, 191, 122],\n",
              "       [ 52, 164,  54, 175,  81],\n",
              "       [ 43,  21, 146, 175,  42],\n",
              "       [135, 121, 112, 187, 109],\n",
              "       [178,  22, 164,  80,  71],\n",
              "       [170,   2,  27, 140,  36],\n",
              "       [ 94, 171,  21,  45,  65],\n",
              "       [174,  98,  76, 131, 170],\n",
              "       [ 66,  97,  31, 157, 137],\n",
              "       [187,  28, 196, 176,   3],\n",
              "       [ 98, 149, 107,  84, 161],\n",
              "       [184,  43, 120, 125, 153],\n",
              "       [136, 107,  48,  79,  43],\n",
              "       [ 33,  10,  88,  21, 163],\n",
              "       [ 44,  41,  73,  99,  35],\n",
              "       [197,  21,  88,  75,  71],\n",
              "       [ 64, 130,  61,  53,  54],\n",
              "       [177, 182, 183,  74,  50],\n",
              "       [ 48,  25, 164,  43, 103],\n",
              "       [ 91, 106, 169, 172, 172],\n",
              "       [153, 170, 183, 177, 104],\n",
              "       [172,  74,  71, 159, 118],\n",
              "       [185, 120, 120, 192,  64],\n",
              "       [114, 198, 118, 115,  47],\n",
              "       [ 27,  51, 134, 165, 100],\n",
              "       [ 95,  55, 185,  11,  23],\n",
              "       [176,  87, 112, 133, 126],\n",
              "       [127,  28,  92, 106, 196],\n",
              "       [136, 119, 199,  26, 149],\n",
              "       [161, 177, 114,  21,  53],\n",
              "       [186, 161,  35,  42,  33],\n",
              "       [ 15,  94, 156,  76,  64],\n",
              "       [  4,   3, 198, 174, 122],\n",
              "       [ 47, 112, 170, 138, 151],\n",
              "       [171, 190,  72,  32,  65],\n",
              "       [186, 116, 183,  39, 147],\n",
              "       [ 91, 159,  69,   5, 137],\n",
              "       [ 55,   0,  98,  24,  78],\n",
              "       [ 46, 126, 163, 145, 142]])"
            ]
          },
          "metadata": {},
          "execution_count": 19
        }
      ]
    },
    {
      "cell_type": "markdown",
      "source": [
        "//Multiplicação escalar por um unico número"
      ],
      "metadata": {
        "id": "S4BK0zlgFBF4"
      }
    },
    {
      "cell_type": "code",
      "source": [
        "test1 = test * 2"
      ],
      "metadata": {
        "id": "f99ls6VhDlFh"
      },
      "execution_count": 20,
      "outputs": []
    },
    {
      "cell_type": "code",
      "source": [
        "test1"
      ],
      "metadata": {
        "colab": {
          "base_uri": "https://localhost:8080/"
        },
        "id": "a38GiPrgFKJy",
        "outputId": "feb1cc4a-bafc-4d5e-f40b-1528c42e620e"
      },
      "execution_count": 21,
      "outputs": [
        {
          "output_type": "execute_result",
          "data": {
            "text/plain": [
              "array([[100, 390,  34, 142, 104],\n",
              "       [ 42,   2, 316, 224,  40],\n",
              "       [232, 278, 330,  80, 348],\n",
              "       [256, 256, 374,  16, 238],\n",
              "       [396, 358, 360, 126, 192],\n",
              "       [ 22,  82, 110, 392, 242],\n",
              "       [380, 218,  44, 136, 272],\n",
              "       [256, 212, 204, 356, 182],\n",
              "       [136, 110,  92,  46,  82],\n",
              "       [292,  40,   0, 378, 220],\n",
              "       [180, 324, 186, 274, 328],\n",
              "       [176,  42, 308, 382, 244],\n",
              "       [104, 328, 108, 350, 162],\n",
              "       [ 86,  42, 292, 350,  84],\n",
              "       [270, 242, 224, 374, 218],\n",
              "       [356,  44, 328, 160, 142],\n",
              "       [340,   4,  54, 280,  72],\n",
              "       [188, 342,  42,  90, 130],\n",
              "       [348, 196, 152, 262, 340],\n",
              "       [132, 194,  62, 314, 274],\n",
              "       [374,  56, 392, 352,   6],\n",
              "       [196, 298, 214, 168, 322],\n",
              "       [368,  86, 240, 250, 306],\n",
              "       [272, 214,  96, 158,  86],\n",
              "       [ 66,  20, 176,  42, 326],\n",
              "       [ 88,  82, 146, 198,  70],\n",
              "       [394,  42, 176, 150, 142],\n",
              "       [128, 260, 122, 106, 108],\n",
              "       [354, 364, 366, 148, 100],\n",
              "       [ 96,  50, 328,  86, 206],\n",
              "       [182, 212, 338, 344, 344],\n",
              "       [306, 340, 366, 354, 208],\n",
              "       [344, 148, 142, 318, 236],\n",
              "       [370, 240, 240, 384, 128],\n",
              "       [228, 396, 236, 230,  94],\n",
              "       [ 54, 102, 268, 330, 200],\n",
              "       [190, 110, 370,  22,  46],\n",
              "       [352, 174, 224, 266, 252],\n",
              "       [254,  56, 184, 212, 392],\n",
              "       [272, 238, 398,  52, 298],\n",
              "       [322, 354, 228,  42, 106],\n",
              "       [372, 322,  70,  84,  66],\n",
              "       [ 30, 188, 312, 152, 128],\n",
              "       [  8,   6, 396, 348, 244],\n",
              "       [ 94, 224, 340, 276, 302],\n",
              "       [342, 380, 144,  64, 130],\n",
              "       [372, 232, 366,  78, 294],\n",
              "       [182, 318, 138,  10, 274],\n",
              "       [110,   0, 196,  48, 156],\n",
              "       [ 92, 252, 326, 290, 284]])"
            ]
          },
          "metadata": {},
          "execution_count": 21
        }
      ]
    },
    {
      "cell_type": "markdown",
      "source": [
        "//Subtração de matrizes"
      ],
      "metadata": {
        "id": "TvgDwYYHGELA"
      }
    },
    {
      "cell_type": "code",
      "source": [
        "sub = np.subtract(test1, test)\n",
        "sub"
      ],
      "metadata": {
        "colab": {
          "base_uri": "https://localhost:8080/"
        },
        "id": "1-L7u3gcFLtP",
        "outputId": "dc94c3e4-daeb-4b48-c943-18e0380da53f"
      },
      "execution_count": 22,
      "outputs": [
        {
          "output_type": "execute_result",
          "data": {
            "text/plain": [
              "array([[ 50, 195,  17,  71,  52],\n",
              "       [ 21,   1, 158, 112,  20],\n",
              "       [116, 139, 165,  40, 174],\n",
              "       [128, 128, 187,   8, 119],\n",
              "       [198, 179, 180,  63,  96],\n",
              "       [ 11,  41,  55, 196, 121],\n",
              "       [190, 109,  22,  68, 136],\n",
              "       [128, 106, 102, 178,  91],\n",
              "       [ 68,  55,  46,  23,  41],\n",
              "       [146,  20,   0, 189, 110],\n",
              "       [ 90, 162,  93, 137, 164],\n",
              "       [ 88,  21, 154, 191, 122],\n",
              "       [ 52, 164,  54, 175,  81],\n",
              "       [ 43,  21, 146, 175,  42],\n",
              "       [135, 121, 112, 187, 109],\n",
              "       [178,  22, 164,  80,  71],\n",
              "       [170,   2,  27, 140,  36],\n",
              "       [ 94, 171,  21,  45,  65],\n",
              "       [174,  98,  76, 131, 170],\n",
              "       [ 66,  97,  31, 157, 137],\n",
              "       [187,  28, 196, 176,   3],\n",
              "       [ 98, 149, 107,  84, 161],\n",
              "       [184,  43, 120, 125, 153],\n",
              "       [136, 107,  48,  79,  43],\n",
              "       [ 33,  10,  88,  21, 163],\n",
              "       [ 44,  41,  73,  99,  35],\n",
              "       [197,  21,  88,  75,  71],\n",
              "       [ 64, 130,  61,  53,  54],\n",
              "       [177, 182, 183,  74,  50],\n",
              "       [ 48,  25, 164,  43, 103],\n",
              "       [ 91, 106, 169, 172, 172],\n",
              "       [153, 170, 183, 177, 104],\n",
              "       [172,  74,  71, 159, 118],\n",
              "       [185, 120, 120, 192,  64],\n",
              "       [114, 198, 118, 115,  47],\n",
              "       [ 27,  51, 134, 165, 100],\n",
              "       [ 95,  55, 185,  11,  23],\n",
              "       [176,  87, 112, 133, 126],\n",
              "       [127,  28,  92, 106, 196],\n",
              "       [136, 119, 199,  26, 149],\n",
              "       [161, 177, 114,  21,  53],\n",
              "       [186, 161,  35,  42,  33],\n",
              "       [ 15,  94, 156,  76,  64],\n",
              "       [  4,   3, 198, 174, 122],\n",
              "       [ 47, 112, 170, 138, 151],\n",
              "       [171, 190,  72,  32,  65],\n",
              "       [186, 116, 183,  39, 147],\n",
              "       [ 91, 159,  69,   5, 137],\n",
              "       [ 55,   0,  98,  24,  78],\n",
              "       [ 46, 126, 163, 145, 142]])"
            ]
          },
          "metadata": {},
          "execution_count": 22
        }
      ]
    },
    {
      "cell_type": "code",
      "source": [
        "test.mean()"
      ],
      "metadata": {
        "colab": {
          "base_uri": "https://localhost:8080/"
        },
        "id": "praMgwzbGVlq",
        "outputId": "dcdb02e4-5e2a-4126-d724-689b583b9f02"
      },
      "execution_count": 23,
      "outputs": [
        {
          "output_type": "execute_result",
          "data": {
            "text/plain": [
              "103.584"
            ]
          },
          "metadata": {},
          "execution_count": 23
        }
      ]
    },
    {
      "cell_type": "markdown",
      "source": [
        "//Moda"
      ],
      "metadata": {
        "id": "5WRd1yNqHWzG"
      }
    },
    {
      "cell_type": "code",
      "source": [],
      "metadata": {
        "id": "PD7nIKXaHWaH"
      },
      "execution_count": null,
      "outputs": []
    },
    {
      "cell_type": "code",
      "source": [
        "\n",
        "\n",
        "np.bincount(test.flatten()).argmax()\n"
      ],
      "metadata": {
        "colab": {
          "base_uri": "https://localhost:8080/"
        },
        "id": "2g2iSyV4GoPn",
        "outputId": "a411139d-4ce6-4340-e33f-c565e235d8f9"
      },
      "execution_count": 26,
      "outputs": [
        {
          "output_type": "execute_result",
          "data": {
            "text/plain": [
              "21"
            ]
          },
          "metadata": {},
          "execution_count": 26
        }
      ]
    },
    {
      "cell_type": "markdown",
      "source": [
        "//Soma acumulada"
      ],
      "metadata": {
        "id": "Td-HFiFwHq3p"
      }
    },
    {
      "cell_type": "code",
      "source": [
        "test.cumsum(axis=1)"
      ],
      "metadata": {
        "colab": {
          "base_uri": "https://localhost:8080/"
        },
        "id": "cZ3b5CF0HwNb",
        "outputId": "0dea0fba-6aed-4aa9-a5fc-2fc9898f8160"
      },
      "execution_count": 27,
      "outputs": [
        {
          "output_type": "execute_result",
          "data": {
            "text/plain": [
              "array([[ 50, 245, 262, 333, 385],\n",
              "       [ 21,  22, 180, 292, 312],\n",
              "       [116, 255, 420, 460, 634],\n",
              "       [128, 256, 443, 451, 570],\n",
              "       [198, 377, 557, 620, 716],\n",
              "       [ 11,  52, 107, 303, 424],\n",
              "       [190, 299, 321, 389, 525],\n",
              "       [128, 234, 336, 514, 605],\n",
              "       [ 68, 123, 169, 192, 233],\n",
              "       [146, 166, 166, 355, 465],\n",
              "       [ 90, 252, 345, 482, 646],\n",
              "       [ 88, 109, 263, 454, 576],\n",
              "       [ 52, 216, 270, 445, 526],\n",
              "       [ 43,  64, 210, 385, 427],\n",
              "       [135, 256, 368, 555, 664],\n",
              "       [178, 200, 364, 444, 515],\n",
              "       [170, 172, 199, 339, 375],\n",
              "       [ 94, 265, 286, 331, 396],\n",
              "       [174, 272, 348, 479, 649],\n",
              "       [ 66, 163, 194, 351, 488],\n",
              "       [187, 215, 411, 587, 590],\n",
              "       [ 98, 247, 354, 438, 599],\n",
              "       [184, 227, 347, 472, 625],\n",
              "       [136, 243, 291, 370, 413],\n",
              "       [ 33,  43, 131, 152, 315],\n",
              "       [ 44,  85, 158, 257, 292],\n",
              "       [197, 218, 306, 381, 452],\n",
              "       [ 64, 194, 255, 308, 362],\n",
              "       [177, 359, 542, 616, 666],\n",
              "       [ 48,  73, 237, 280, 383],\n",
              "       [ 91, 197, 366, 538, 710],\n",
              "       [153, 323, 506, 683, 787],\n",
              "       [172, 246, 317, 476, 594],\n",
              "       [185, 305, 425, 617, 681],\n",
              "       [114, 312, 430, 545, 592],\n",
              "       [ 27,  78, 212, 377, 477],\n",
              "       [ 95, 150, 335, 346, 369],\n",
              "       [176, 263, 375, 508, 634],\n",
              "       [127, 155, 247, 353, 549],\n",
              "       [136, 255, 454, 480, 629],\n",
              "       [161, 338, 452, 473, 526],\n",
              "       [186, 347, 382, 424, 457],\n",
              "       [ 15, 109, 265, 341, 405],\n",
              "       [  4,   7, 205, 379, 501],\n",
              "       [ 47, 159, 329, 467, 618],\n",
              "       [171, 361, 433, 465, 530],\n",
              "       [186, 302, 485, 524, 671],\n",
              "       [ 91, 250, 319, 324, 461],\n",
              "       [ 55,  55, 153, 177, 255],\n",
              "       [ 46, 172, 335, 480, 622]])"
            ]
          },
          "metadata": {},
          "execution_count": 27
        }
      ]
    },
    {
      "cell_type": "markdown",
      "source": [
        "//Criando um array ordenado de 8 numeros"
      ],
      "metadata": {
        "id": "SIYzFqA2IbaU"
      }
    },
    {
      "cell_type": "code",
      "source": [
        "arr4 = np.arange(8)\n",
        "arr4"
      ],
      "metadata": {
        "colab": {
          "base_uri": "https://localhost:8080/"
        },
        "id": "hJuIiZoVGvYj",
        "outputId": "0bda7843-4399-46b2-9acc-d811bb777481"
      },
      "execution_count": 28,
      "outputs": [
        {
          "output_type": "execute_result",
          "data": {
            "text/plain": [
              "array([0, 1, 2, 3, 4, 5, 6, 7])"
            ]
          },
          "metadata": {},
          "execution_count": 28
        }
      ]
    },
    {
      "cell_type": "markdown",
      "source": [
        "//Alterando a ordem dos numeros"
      ],
      "metadata": {
        "id": "YrXF9BiII2tp"
      }
    },
    {
      "cell_type": "code",
      "source": [
        "arr5 = arr4.reshape(4,2)\n",
        "arr5"
      ],
      "metadata": {
        "colab": {
          "base_uri": "https://localhost:8080/"
        },
        "id": "0qYuHjpxIoJ4",
        "outputId": "a5ed5540-9ea2-4db4-ee62-b76fd7cabebc"
      },
      "execution_count": 29,
      "outputs": [
        {
          "output_type": "execute_result",
          "data": {
            "text/plain": [
              "array([[0, 1],\n",
              "       [2, 3],\n",
              "       [4, 5],\n",
              "       [6, 7]])"
            ]
          },
          "metadata": {},
          "execution_count": 29
        }
      ]
    },
    {
      "cell_type": "code",
      "source": [
        "arr6 = arr5.reshape(2,4)\n",
        "arr6"
      ],
      "metadata": {
        "colab": {
          "base_uri": "https://localhost:8080/"
        },
        "id": "EAFWIoYqJLSa",
        "outputId": "9f7e6aaf-7e3a-4f9d-88c9-3e0684be9b70"
      },
      "execution_count": 30,
      "outputs": [
        {
          "output_type": "execute_result",
          "data": {
            "text/plain": [
              "array([[0, 1, 2, 3],\n",
              "       [4, 5, 6, 7]])"
            ]
          },
          "metadata": {},
          "execution_count": 30
        }
      ]
    },
    {
      "cell_type": "markdown",
      "source": [
        "//Matriz transposta"
      ],
      "metadata": {
        "id": "bZkSQCpAJsBT"
      }
    },
    {
      "cell_type": "code",
      "source": [
        "arr7 = arr6.T\n",
        "arr7"
      ],
      "metadata": {
        "colab": {
          "base_uri": "https://localhost:8080/"
        },
        "id": "pgdO4xB5JiLW",
        "outputId": "cff66374-7f91-4226-93b5-9cf7bf66524c"
      },
      "execution_count": 31,
      "outputs": [
        {
          "output_type": "execute_result",
          "data": {
            "text/plain": [
              "array([[0, 4],\n",
              "       [1, 5],\n",
              "       [2, 6],\n",
              "       [3, 7]])"
            ]
          },
          "metadata": {},
          "execution_count": 31
        }
      ]
    },
    {
      "cell_type": "markdown",
      "source": [
        "//Concatenação de matrizes"
      ],
      "metadata": {
        "id": "6RJS-BXdKKXH"
      }
    },
    {
      "cell_type": "code",
      "source": [
        "arr8 = np.concatenate((arr5, arr7))\n",
        "arr8"
      ],
      "metadata": {
        "colab": {
          "base_uri": "https://localhost:8080/"
        },
        "id": "80XrUC5wJ5E2",
        "outputId": "82e7e58a-3874-46d9-dd4b-55e1627c6ec3"
      },
      "execution_count": 33,
      "outputs": [
        {
          "output_type": "execute_result",
          "data": {
            "text/plain": [
              "array([[0, 1],\n",
              "       [2, 3],\n",
              "       [4, 5],\n",
              "       [6, 7],\n",
              "       [0, 4],\n",
              "       [1, 5],\n",
              "       [2, 6],\n",
              "       [3, 7]])"
            ]
          },
          "metadata": {},
          "execution_count": 33
        }
      ]
    },
    {
      "cell_type": "markdown",
      "source": [
        "//Separação de arrays"
      ],
      "metadata": {
        "id": "j6VGbOENK7P6"
      }
    },
    {
      "cell_type": "code",
      "source": [
        "np.split(arr7, 2)"
      ],
      "metadata": {
        "colab": {
          "base_uri": "https://localhost:8080/"
        },
        "id": "_x1IzYjzKcp7",
        "outputId": "d4b10317-41e5-404b-d407-487dc0d44160"
      },
      "execution_count": 34,
      "outputs": [
        {
          "output_type": "execute_result",
          "data": {
            "text/plain": [
              "[array([[0, 4],\n",
              "        [1, 5]]),\n",
              " array([[2, 6],\n",
              "        [3, 7]])]"
            ]
          },
          "metadata": {},
          "execution_count": 34
        }
      ]
    },
    {
      "cell_type": "code",
      "source": [],
      "metadata": {
        "id": "K8eca3RGLNgG"
      },
      "execution_count": null,
      "outputs": []
    }
  ]
}